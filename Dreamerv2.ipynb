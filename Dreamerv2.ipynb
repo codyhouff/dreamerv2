{
  "nbformat": 4,
  "nbformat_minor": 0,
  "metadata": {
    "colab": {
      "name": "EfficientZero.ipynb",
      "provenance": [],
      "collapsed_sections": [],
      "authorship_tag": "ABX9TyP+rEfbZ38FNJDk4LbeoDXO",
      "include_colab_link": true
    },
    "kernelspec": {
      "name": "python3",
      "display_name": "Python 3"
    },
    "language_info": {
      "name": "python"
    },
    "accelerator": "GPU"
  },
  "cells": [
    {
      "cell_type": "markdown",
      "metadata": {
        "id": "view-in-github",
        "colab_type": "text"
      },
      "source": [
        "<a href=\"https://colab.research.google.com/github/codyhouff/dreamerv2/blob/main/Dreamerv2.ipynb\" target=\"_parent\"><img src=\"https://colab.research.google.com/assets/colab-badge.svg\" alt=\"Open In Colab\"/></a>"
      ]
    },
    {
      "cell_type": "markdown",
      "source": [
        ""
      ],
      "metadata": {
        "id": "U3kwv2nlfbZi"
      }
    },
    {
      "cell_type": "code",
      "execution_count": 1,
      "metadata": {
        "colab": {
          "base_uri": "https://localhost:8080/"
        },
        "id": "HF-aY69uTWe1",
        "outputId": "39b5c76d-0108-49f9-f913-5518766e1334"
      },
      "outputs": [
        {
          "output_type": "stream",
          "name": "stdout",
          "text": [
            "Cloning into 'dreamerv2'...\n",
            "remote: Enumerating objects: 78, done.\u001b[K\n",
            "remote: Counting objects: 100% (78/78), done.\u001b[K\n",
            "remote: Compressing objects: 100% (70/70), done.\u001b[K\n",
            "remote: Total 78 (delta 15), reused 0 (delta 0), pack-reused 0\u001b[K\n",
            "Unpacking objects: 100% (78/78), done.\n"
          ]
        }
      ],
      "source": [
        "!git clone https://github.com/codyhouff/dreamerv2"
      ]
    },
    {
      "cell_type": "code",
      "source": [
        "!git clone https://github.com/openai/atari-py"
      ],
      "metadata": {
        "id": "KxiGVFK7a9O1",
        "outputId": "2ca33596-32d4-422f-a9bd-12b05db03ccf",
        "colab": {
          "base_uri": "https://localhost:8080/"
        }
      },
      "execution_count": 5,
      "outputs": [
        {
          "output_type": "stream",
          "name": "stdout",
          "text": [
            "Cloning into 'atari-py'...\n",
            "remote: Enumerating objects: 2144, done.\u001b[K\n",
            "remote: Counting objects: 100% (49/49), done.\u001b[K\n",
            "remote: Compressing objects: 100% (35/35), done.\u001b[K\n",
            "remote: Total 2144 (delta 24), reused 34 (delta 14), pack-reused 2095\u001b[K\n",
            "Receiving objects: 100% (2144/2144), 2.01 MiB | 11.23 MiB/s, done.\n",
            "Resolving deltas: 100% (1317/1317), done.\n"
          ]
        }
      ]
    },
    {
      "cell_type": "code",
      "source": [
        ""
      ],
      "metadata": {
        "id": "Lqe069MEcCCV",
        "outputId": "85487acf-24dd-4aa9-c07c-55800aa047da",
        "colab": {
          "base_uri": "https://localhost:8080/"
        }
      },
      "execution_count": 9,
      "outputs": [
        {
          "output_type": "stream",
          "name": "stdout",
          "text": [
            "/bin/bash: docker: command not found\n"
          ]
        }
      ]
    },
    {
      "cell_type": "code",
      "source": [
        "!pip install -e ."
      ],
      "metadata": {
        "id": "iBUQ2pqRbBjQ",
        "outputId": "c3471995-c91e-4d4b-cb2a-4e6b21649dba",
        "colab": {
          "base_uri": "https://localhost:8080/"
        }
      },
      "execution_count": 6,
      "outputs": [
        {
          "output_type": "stream",
          "name": "stdout",
          "text": [
            "Obtaining file:///content/dreamerv2\n",
            "Requirement already satisfied: gym[atari] in /usr/local/lib/python3.7/dist-packages (from dreamerv2==2.2.0) (0.17.3)\n",
            "Requirement already satisfied: atari_py in /usr/local/lib/python3.7/dist-packages (from dreamerv2==2.2.0) (0.2.9)\n",
            "Collecting crafter\n",
            "  Downloading crafter-1.8.0.tar.gz (105 kB)\n",
            "\u001b[K     |████████████████████████████████| 105 kB 5.5 MB/s \n",
            "\u001b[?25hRequirement already satisfied: dm_control in /usr/local/lib/python3.7/dist-packages (from dreamerv2==2.2.0) (1.0.2)\n",
            "Requirement already satisfied: ruamel.yaml in /usr/local/lib/python3.7/dist-packages (from dreamerv2==2.2.0) (0.17.21)\n",
            "Requirement already satisfied: tensorflow in /usr/local/lib/python3.7/dist-packages (from dreamerv2==2.2.0) (2.8.0)\n",
            "Requirement already satisfied: tensorflow_probability in /usr/local/lib/python3.7/dist-packages (from dreamerv2==2.2.0) (0.16.0)\n",
            "Requirement already satisfied: numpy in /usr/local/lib/python3.7/dist-packages (from atari_py->dreamerv2==2.2.0) (1.21.6)\n",
            "Requirement already satisfied: six in /usr/local/lib/python3.7/dist-packages (from atari_py->dreamerv2==2.2.0) (1.15.0)\n",
            "Requirement already satisfied: imageio in /usr/local/lib/python3.7/dist-packages (from crafter->dreamerv2==2.2.0) (2.4.1)\n",
            "Requirement already satisfied: pillow in /usr/local/lib/python3.7/dist-packages (from crafter->dreamerv2==2.2.0) (7.1.2)\n",
            "Collecting opensimplex\n",
            "  Downloading opensimplex-0.4.2-py3-none-any.whl (17 kB)\n",
            "Requirement already satisfied: numba in /usr/local/lib/python3.7/dist-packages (from crafter->dreamerv2==2.2.0) (0.51.2)\n",
            "Requirement already satisfied: absl-py>=0.7.0 in /usr/local/lib/python3.7/dist-packages (from dm_control->dreamerv2==2.2.0) (0.15.0)\n",
            "Requirement already satisfied: lxml in /usr/local/lib/python3.7/dist-packages (from dm_control->dreamerv2==2.2.0) (4.2.6)\n",
            "Requirement already satisfied: pyopengl>=3.1.4 in /usr/local/lib/python3.7/dist-packages (from dm_control->dreamerv2==2.2.0) (3.1.6)\n",
            "Requirement already satisfied: requests in /usr/local/lib/python3.7/dist-packages (from dm_control->dreamerv2==2.2.0) (2.23.0)\n",
            "Requirement already satisfied: labmaze in /usr/local/lib/python3.7/dist-packages (from dm_control->dreamerv2==2.2.0) (1.0.5)\n",
            "Requirement already satisfied: mujoco>=2.1.5 in /usr/local/lib/python3.7/dist-packages (from dm_control->dreamerv2==2.2.0) (2.1.5)\n",
            "Requirement already satisfied: setuptools!=50.0.0 in /usr/local/lib/python3.7/dist-packages (from dm_control->dreamerv2==2.2.0) (57.4.0)\n",
            "Requirement already satisfied: pyparsing<3.0.0 in /usr/local/lib/python3.7/dist-packages (from dm_control->dreamerv2==2.2.0) (2.4.7)\n",
            "Requirement already satisfied: glfw in /usr/local/lib/python3.7/dist-packages (from dm_control->dreamerv2==2.2.0) (2.5.3)\n",
            "Requirement already satisfied: dm-env in /usr/local/lib/python3.7/dist-packages (from dm_control->dreamerv2==2.2.0) (1.5)\n",
            "Requirement already satisfied: protobuf>=3.15.6 in /usr/local/lib/python3.7/dist-packages (from dm_control->dreamerv2==2.2.0) (3.17.3)\n",
            "Requirement already satisfied: scipy in /usr/local/lib/python3.7/dist-packages (from dm_control->dreamerv2==2.2.0) (1.4.1)\n",
            "Requirement already satisfied: tqdm in /usr/local/lib/python3.7/dist-packages (from dm_control->dreamerv2==2.2.0) (4.64.0)\n",
            "Requirement already satisfied: future in /usr/local/lib/python3.7/dist-packages (from dm_control->dreamerv2==2.2.0) (0.16.0)\n",
            "Requirement already satisfied: dm-tree!=0.1.2 in /usr/local/lib/python3.7/dist-packages (from dm_control->dreamerv2==2.2.0) (0.1.7)\n",
            "Requirement already satisfied: pyglet<=1.5.0,>=1.4.0 in /usr/local/lib/python3.7/dist-packages (from gym[atari]->dreamerv2==2.2.0) (1.5.0)\n",
            "Requirement already satisfied: cloudpickle<1.7.0,>=1.2.0 in /usr/local/lib/python3.7/dist-packages (from gym[atari]->dreamerv2==2.2.0) (1.3.0)\n",
            "Requirement already satisfied: opencv-python in /usr/local/lib/python3.7/dist-packages (from gym[atari]->dreamerv2==2.2.0) (4.1.2.30)\n",
            "Requirement already satisfied: llvmlite<0.35,>=0.34.0.dev0 in /usr/local/lib/python3.7/dist-packages (from numba->crafter->dreamerv2==2.2.0) (0.34.0)\n",
            "Requirement already satisfied: idna<3,>=2.5 in /usr/local/lib/python3.7/dist-packages (from requests->dm_control->dreamerv2==2.2.0) (2.10)\n",
            "Requirement already satisfied: chardet<4,>=3.0.2 in /usr/local/lib/python3.7/dist-packages (from requests->dm_control->dreamerv2==2.2.0) (3.0.4)\n",
            "Requirement already satisfied: urllib3!=1.25.0,!=1.25.1,<1.26,>=1.21.1 in /usr/local/lib/python3.7/dist-packages (from requests->dm_control->dreamerv2==2.2.0) (1.24.3)\n",
            "Requirement already satisfied: certifi>=2017.4.17 in /usr/local/lib/python3.7/dist-packages (from requests->dm_control->dreamerv2==2.2.0) (2021.10.8)\n",
            "Requirement already satisfied: ruamel.yaml.clib>=0.2.6 in /usr/local/lib/python3.7/dist-packages (from ruamel.yaml->dreamerv2==2.2.0) (0.2.6)\n",
            "Requirement already satisfied: termcolor>=1.1.0 in /usr/local/lib/python3.7/dist-packages (from tensorflow->dreamerv2==2.2.0) (1.1.0)\n",
            "Requirement already satisfied: keras<2.9,>=2.8.0rc0 in /usr/local/lib/python3.7/dist-packages (from tensorflow->dreamerv2==2.2.0) (2.8.0)\n",
            "Requirement already satisfied: tensorflow-io-gcs-filesystem>=0.23.1 in /usr/local/lib/python3.7/dist-packages (from tensorflow->dreamerv2==2.2.0) (0.24.0)\n",
            "Requirement already satisfied: flatbuffers>=1.12 in /usr/local/lib/python3.7/dist-packages (from tensorflow->dreamerv2==2.2.0) (1.12)\n",
            "Requirement already satisfied: keras-preprocessing>=1.1.1 in /usr/local/lib/python3.7/dist-packages (from tensorflow->dreamerv2==2.2.0) (1.1.2)\n",
            "Requirement already satisfied: google-pasta>=0.1.1 in /usr/local/lib/python3.7/dist-packages (from tensorflow->dreamerv2==2.2.0) (0.2.0)\n",
            "Requirement already satisfied: typing-extensions>=3.6.6 in /usr/local/lib/python3.7/dist-packages (from tensorflow->dreamerv2==2.2.0) (3.7.4.3)\n",
            "Requirement already satisfied: libclang>=9.0.1 in /usr/local/lib/python3.7/dist-packages (from tensorflow->dreamerv2==2.2.0) (13.0.0)\n",
            "Requirement already satisfied: grpcio<2.0,>=1.24.3 in /usr/local/lib/python3.7/dist-packages (from tensorflow->dreamerv2==2.2.0) (1.44.0)\n",
            "Requirement already satisfied: gast>=0.2.1 in /usr/local/lib/python3.7/dist-packages (from tensorflow->dreamerv2==2.2.0) (0.4.0)\n",
            "Requirement already satisfied: tensorboard<2.9,>=2.8 in /usr/local/lib/python3.7/dist-packages (from tensorflow->dreamerv2==2.2.0) (2.8.0)\n",
            "Requirement already satisfied: opt-einsum>=2.3.2 in /usr/local/lib/python3.7/dist-packages (from tensorflow->dreamerv2==2.2.0) (3.3.0)\n",
            "Requirement already satisfied: h5py>=2.9.0 in /usr/local/lib/python3.7/dist-packages (from tensorflow->dreamerv2==2.2.0) (3.1.0)\n",
            "Requirement already satisfied: tf-estimator-nightly==2.8.0.dev2021122109 in /usr/local/lib/python3.7/dist-packages (from tensorflow->dreamerv2==2.2.0) (2.8.0.dev2021122109)\n",
            "Requirement already satisfied: astunparse>=1.6.0 in /usr/local/lib/python3.7/dist-packages (from tensorflow->dreamerv2==2.2.0) (1.6.3)\n",
            "Requirement already satisfied: wrapt>=1.11.0 in /usr/local/lib/python3.7/dist-packages (from tensorflow->dreamerv2==2.2.0) (1.12.1)\n",
            "Requirement already satisfied: wheel<1.0,>=0.23.0 in /usr/local/lib/python3.7/dist-packages (from astunparse>=1.6.0->tensorflow->dreamerv2==2.2.0) (0.37.1)\n",
            "Requirement already satisfied: cached-property in /usr/local/lib/python3.7/dist-packages (from h5py>=2.9.0->tensorflow->dreamerv2==2.2.0) (1.5.2)\n",
            "Requirement already satisfied: werkzeug>=0.11.15 in /usr/local/lib/python3.7/dist-packages (from tensorboard<2.9,>=2.8->tensorflow->dreamerv2==2.2.0) (1.0.1)\n",
            "Requirement already satisfied: markdown>=2.6.8 in /usr/local/lib/python3.7/dist-packages (from tensorboard<2.9,>=2.8->tensorflow->dreamerv2==2.2.0) (3.3.6)\n",
            "Requirement already satisfied: google-auth<3,>=1.6.3 in /usr/local/lib/python3.7/dist-packages (from tensorboard<2.9,>=2.8->tensorflow->dreamerv2==2.2.0) (1.35.0)\n",
            "Requirement already satisfied: tensorboard-data-server<0.7.0,>=0.6.0 in /usr/local/lib/python3.7/dist-packages (from tensorboard<2.9,>=2.8->tensorflow->dreamerv2==2.2.0) (0.6.1)\n",
            "Requirement already satisfied: tensorboard-plugin-wit>=1.6.0 in /usr/local/lib/python3.7/dist-packages (from tensorboard<2.9,>=2.8->tensorflow->dreamerv2==2.2.0) (1.8.1)\n",
            "Requirement already satisfied: google-auth-oauthlib<0.5,>=0.4.1 in /usr/local/lib/python3.7/dist-packages (from tensorboard<2.9,>=2.8->tensorflow->dreamerv2==2.2.0) (0.4.6)\n",
            "Requirement already satisfied: pyasn1-modules>=0.2.1 in /usr/local/lib/python3.7/dist-packages (from google-auth<3,>=1.6.3->tensorboard<2.9,>=2.8->tensorflow->dreamerv2==2.2.0) (0.2.8)\n",
            "Requirement already satisfied: rsa<5,>=3.1.4 in /usr/local/lib/python3.7/dist-packages (from google-auth<3,>=1.6.3->tensorboard<2.9,>=2.8->tensorflow->dreamerv2==2.2.0) (4.8)\n",
            "Requirement already satisfied: cachetools<5.0,>=2.0.0 in /usr/local/lib/python3.7/dist-packages (from google-auth<3,>=1.6.3->tensorboard<2.9,>=2.8->tensorflow->dreamerv2==2.2.0) (4.2.4)\n",
            "Requirement already satisfied: requests-oauthlib>=0.7.0 in /usr/local/lib/python3.7/dist-packages (from google-auth-oauthlib<0.5,>=0.4.1->tensorboard<2.9,>=2.8->tensorflow->dreamerv2==2.2.0) (1.3.1)\n",
            "Requirement already satisfied: importlib-metadata>=4.4 in /usr/local/lib/python3.7/dist-packages (from markdown>=2.6.8->tensorboard<2.9,>=2.8->tensorflow->dreamerv2==2.2.0) (4.11.3)\n",
            "Requirement already satisfied: zipp>=0.5 in /usr/local/lib/python3.7/dist-packages (from importlib-metadata>=4.4->markdown>=2.6.8->tensorboard<2.9,>=2.8->tensorflow->dreamerv2==2.2.0) (3.8.0)\n",
            "Requirement already satisfied: pyasn1<0.5.0,>=0.4.6 in /usr/local/lib/python3.7/dist-packages (from pyasn1-modules>=0.2.1->google-auth<3,>=1.6.3->tensorboard<2.9,>=2.8->tensorflow->dreamerv2==2.2.0) (0.4.8)\n",
            "Requirement already satisfied: oauthlib>=3.0.0 in /usr/local/lib/python3.7/dist-packages (from requests-oauthlib>=0.7.0->google-auth-oauthlib<0.5,>=0.4.1->tensorboard<2.9,>=2.8->tensorflow->dreamerv2==2.2.0) (3.2.0)\n",
            "Requirement already satisfied: decorator in /usr/local/lib/python3.7/dist-packages (from tensorflow_probability->dreamerv2==2.2.0) (4.4.2)\n",
            "Building wheels for collected packages: crafter\n",
            "  Building wheel for crafter (setup.py) ... \u001b[?25l\u001b[?25hdone\n",
            "  Created wheel for crafter: filename=crafter-1.8.0-py3-none-any.whl size=143083 sha256=10cd37bc56669cb9e388742877144148363d894c3cd74e95b4595cba631f7757\n",
            "  Stored in directory: /root/.cache/pip/wheels/89/e2/04/2cf97e741d5e67e89a94deea33ddf063ad1848fa636b653649\n",
            "Successfully built crafter\n",
            "Installing collected packages: opensimplex, crafter, dreamerv2\n",
            "  Running setup.py develop for dreamerv2\n",
            "Successfully installed crafter-1.8.0 dreamerv2-2.2.0 opensimplex-0.4.2\n"
          ]
        }
      ]
    },
    {
      "cell_type": "code",
      "source": [
        "!pip3 install tensorflow tensorflow_probability ruamel.yaml 'gym[atari]' dm_control"
      ],
      "metadata": {
        "id": "bzXG4luCTJL4",
        "outputId": "45cb826e-09d1-49e6-8168-3ebb3327c655",
        "colab": {
          "base_uri": "https://localhost:8080/"
        }
      },
      "execution_count": 1,
      "outputs": [
        {
          "output_type": "stream",
          "name": "stdout",
          "text": [
            "Requirement already satisfied: tensorflow in /usr/local/lib/python3.7/dist-packages (2.8.0)\n",
            "Requirement already satisfied: tensorflow_probability in /usr/local/lib/python3.7/dist-packages (0.16.0)\n",
            "Requirement already satisfied: ruamel.yaml in /usr/local/lib/python3.7/dist-packages (0.17.21)\n",
            "Requirement already satisfied: gym[atari] in /usr/local/lib/python3.7/dist-packages (0.17.3)\n",
            "Requirement already satisfied: dm_control in /usr/local/lib/python3.7/dist-packages (1.0.2)\n",
            "Requirement already satisfied: google-pasta>=0.1.1 in /usr/local/lib/python3.7/dist-packages (from tensorflow) (0.2.0)\n",
            "Requirement already satisfied: numpy>=1.20 in /usr/local/lib/python3.7/dist-packages (from tensorflow) (1.21.6)\n",
            "Requirement already satisfied: h5py>=2.9.0 in /usr/local/lib/python3.7/dist-packages (from tensorflow) (3.1.0)\n",
            "Requirement already satisfied: opt-einsum>=2.3.2 in /usr/local/lib/python3.7/dist-packages (from tensorflow) (3.3.0)\n",
            "Requirement already satisfied: termcolor>=1.1.0 in /usr/local/lib/python3.7/dist-packages (from tensorflow) (1.1.0)\n",
            "Requirement already satisfied: astunparse>=1.6.0 in /usr/local/lib/python3.7/dist-packages (from tensorflow) (1.6.3)\n",
            "Requirement already satisfied: tensorboard<2.9,>=2.8 in /usr/local/lib/python3.7/dist-packages (from tensorflow) (2.8.0)\n",
            "Requirement already satisfied: setuptools in /usr/local/lib/python3.7/dist-packages (from tensorflow) (57.4.0)\n",
            "Requirement already satisfied: grpcio<2.0,>=1.24.3 in /usr/local/lib/python3.7/dist-packages (from tensorflow) (1.44.0)\n",
            "Requirement already satisfied: gast>=0.2.1 in /usr/local/lib/python3.7/dist-packages (from tensorflow) (0.4.0)\n",
            "Requirement already satisfied: tensorflow-io-gcs-filesystem>=0.23.1 in /usr/local/lib/python3.7/dist-packages (from tensorflow) (0.24.0)\n",
            "Requirement already satisfied: absl-py>=0.4.0 in /usr/local/lib/python3.7/dist-packages (from tensorflow) (0.15.0)\n",
            "Requirement already satisfied: flatbuffers>=1.12 in /usr/local/lib/python3.7/dist-packages (from tensorflow) (1.12)\n",
            "Requirement already satisfied: six>=1.12.0 in /usr/local/lib/python3.7/dist-packages (from tensorflow) (1.15.0)\n",
            "Requirement already satisfied: typing-extensions>=3.6.6 in /usr/local/lib/python3.7/dist-packages (from tensorflow) (3.7.4.3)\n",
            "Requirement already satisfied: wrapt>=1.11.0 in /usr/local/lib/python3.7/dist-packages (from tensorflow) (1.12.1)\n",
            "Requirement already satisfied: libclang>=9.0.1 in /usr/local/lib/python3.7/dist-packages (from tensorflow) (13.0.0)\n",
            "Requirement already satisfied: protobuf>=3.9.2 in /usr/local/lib/python3.7/dist-packages (from tensorflow) (3.17.3)\n",
            "Requirement already satisfied: tf-estimator-nightly==2.8.0.dev2021122109 in /usr/local/lib/python3.7/dist-packages (from tensorflow) (2.8.0.dev2021122109)\n",
            "Requirement already satisfied: keras<2.9,>=2.8.0rc0 in /usr/local/lib/python3.7/dist-packages (from tensorflow) (2.8.0)\n",
            "Requirement already satisfied: keras-preprocessing>=1.1.1 in /usr/local/lib/python3.7/dist-packages (from tensorflow) (1.1.2)\n",
            "Requirement already satisfied: wheel<1.0,>=0.23.0 in /usr/local/lib/python3.7/dist-packages (from astunparse>=1.6.0->tensorflow) (0.37.1)\n",
            "Requirement already satisfied: cached-property in /usr/local/lib/python3.7/dist-packages (from h5py>=2.9.0->tensorflow) (1.5.2)\n",
            "Requirement already satisfied: google-auth<3,>=1.6.3 in /usr/local/lib/python3.7/dist-packages (from tensorboard<2.9,>=2.8->tensorflow) (1.35.0)\n",
            "Requirement already satisfied: tensorboard-plugin-wit>=1.6.0 in /usr/local/lib/python3.7/dist-packages (from tensorboard<2.9,>=2.8->tensorflow) (1.8.1)\n",
            "Requirement already satisfied: requests<3,>=2.21.0 in /usr/local/lib/python3.7/dist-packages (from tensorboard<2.9,>=2.8->tensorflow) (2.23.0)\n",
            "Requirement already satisfied: tensorboard-data-server<0.7.0,>=0.6.0 in /usr/local/lib/python3.7/dist-packages (from tensorboard<2.9,>=2.8->tensorflow) (0.6.1)\n",
            "Requirement already satisfied: werkzeug>=0.11.15 in /usr/local/lib/python3.7/dist-packages (from tensorboard<2.9,>=2.8->tensorflow) (1.0.1)\n",
            "Requirement already satisfied: markdown>=2.6.8 in /usr/local/lib/python3.7/dist-packages (from tensorboard<2.9,>=2.8->tensorflow) (3.3.6)\n",
            "Requirement already satisfied: google-auth-oauthlib<0.5,>=0.4.1 in /usr/local/lib/python3.7/dist-packages (from tensorboard<2.9,>=2.8->tensorflow) (0.4.6)\n",
            "Requirement already satisfied: cachetools<5.0,>=2.0.0 in /usr/local/lib/python3.7/dist-packages (from google-auth<3,>=1.6.3->tensorboard<2.9,>=2.8->tensorflow) (4.2.4)\n",
            "Requirement already satisfied: pyasn1-modules>=0.2.1 in /usr/local/lib/python3.7/dist-packages (from google-auth<3,>=1.6.3->tensorboard<2.9,>=2.8->tensorflow) (0.2.8)\n",
            "Requirement already satisfied: rsa<5,>=3.1.4 in /usr/local/lib/python3.7/dist-packages (from google-auth<3,>=1.6.3->tensorboard<2.9,>=2.8->tensorflow) (4.8)\n",
            "Requirement already satisfied: requests-oauthlib>=0.7.0 in /usr/local/lib/python3.7/dist-packages (from google-auth-oauthlib<0.5,>=0.4.1->tensorboard<2.9,>=2.8->tensorflow) (1.3.1)\n",
            "Requirement already satisfied: importlib-metadata>=4.4 in /usr/local/lib/python3.7/dist-packages (from markdown>=2.6.8->tensorboard<2.9,>=2.8->tensorflow) (4.11.3)\n",
            "Requirement already satisfied: zipp>=0.5 in /usr/local/lib/python3.7/dist-packages (from importlib-metadata>=4.4->markdown>=2.6.8->tensorboard<2.9,>=2.8->tensorflow) (3.8.0)\n",
            "Requirement already satisfied: pyasn1<0.5.0,>=0.4.6 in /usr/local/lib/python3.7/dist-packages (from pyasn1-modules>=0.2.1->google-auth<3,>=1.6.3->tensorboard<2.9,>=2.8->tensorflow) (0.4.8)\n",
            "Requirement already satisfied: urllib3!=1.25.0,!=1.25.1,<1.26,>=1.21.1 in /usr/local/lib/python3.7/dist-packages (from requests<3,>=2.21.0->tensorboard<2.9,>=2.8->tensorflow) (1.24.3)\n",
            "Requirement already satisfied: chardet<4,>=3.0.2 in /usr/local/lib/python3.7/dist-packages (from requests<3,>=2.21.0->tensorboard<2.9,>=2.8->tensorflow) (3.0.4)\n",
            "Requirement already satisfied: idna<3,>=2.5 in /usr/local/lib/python3.7/dist-packages (from requests<3,>=2.21.0->tensorboard<2.9,>=2.8->tensorflow) (2.10)\n",
            "Requirement already satisfied: certifi>=2017.4.17 in /usr/local/lib/python3.7/dist-packages (from requests<3,>=2.21.0->tensorboard<2.9,>=2.8->tensorflow) (2021.10.8)\n",
            "Requirement already satisfied: oauthlib>=3.0.0 in /usr/local/lib/python3.7/dist-packages (from requests-oauthlib>=0.7.0->google-auth-oauthlib<0.5,>=0.4.1->tensorboard<2.9,>=2.8->tensorflow) (3.2.0)\n",
            "Requirement already satisfied: dm-tree in /usr/local/lib/python3.7/dist-packages (from tensorflow_probability) (0.1.7)\n",
            "Requirement already satisfied: cloudpickle>=1.3 in /usr/local/lib/python3.7/dist-packages (from tensorflow_probability) (1.3.0)\n",
            "Requirement already satisfied: decorator in /usr/local/lib/python3.7/dist-packages (from tensorflow_probability) (4.4.2)\n",
            "Requirement already satisfied: ruamel.yaml.clib>=0.2.6 in /usr/local/lib/python3.7/dist-packages (from ruamel.yaml) (0.2.6)\n",
            "Requirement already satisfied: tqdm in /usr/local/lib/python3.7/dist-packages (from dm_control) (4.64.0)\n",
            "Requirement already satisfied: lxml in /usr/local/lib/python3.7/dist-packages (from dm_control) (4.2.6)\n",
            "Requirement already satisfied: dm-env in /usr/local/lib/python3.7/dist-packages (from dm_control) (1.5)\n",
            "Requirement already satisfied: pyopengl>=3.1.4 in /usr/local/lib/python3.7/dist-packages (from dm_control) (3.1.6)\n",
            "Requirement already satisfied: pyparsing<3.0.0 in /usr/local/lib/python3.7/dist-packages (from dm_control) (2.4.7)\n",
            "Requirement already satisfied: glfw in /usr/local/lib/python3.7/dist-packages (from dm_control) (2.5.3)\n",
            "Requirement already satisfied: future in /usr/local/lib/python3.7/dist-packages (from dm_control) (0.16.0)\n",
            "Requirement already satisfied: labmaze in /usr/local/lib/python3.7/dist-packages (from dm_control) (1.0.5)\n",
            "Requirement already satisfied: mujoco>=2.1.5 in /usr/local/lib/python3.7/dist-packages (from dm_control) (2.1.5)\n",
            "Requirement already satisfied: scipy in /usr/local/lib/python3.7/dist-packages (from dm_control) (1.4.1)\n",
            "Requirement already satisfied: pyglet<=1.5.0,>=1.4.0 in /usr/local/lib/python3.7/dist-packages (from gym[atari]) (1.5.0)\n",
            "Requirement already satisfied: opencv-python in /usr/local/lib/python3.7/dist-packages (from gym[atari]) (4.1.2.30)\n",
            "Requirement already satisfied: Pillow in /usr/local/lib/python3.7/dist-packages (from gym[atari]) (7.1.2)\n",
            "Requirement already satisfied: atari-py~=0.2.0 in /usr/local/lib/python3.7/dist-packages (from gym[atari]) (0.2.9)\n"
          ]
        }
      ]
    },
    {
      "cell_type": "code",
      "source": [
        "ls"
      ],
      "metadata": {
        "id": "i272X0quTl0v",
        "outputId": "5b39cad8-8bf2-4cd7-fb61-d356ca17e7ea",
        "colab": {
          "base_uri": "https://localhost:8080/"
        }
      },
      "execution_count": 2,
      "outputs": [
        {
          "output_type": "stream",
          "name": "stdout",
          "text": [
            "\u001b[0m\u001b[01;34mdreamerv2\u001b[0m/  \u001b[01;34msample_data\u001b[0m/\n"
          ]
        }
      ]
    },
    {
      "cell_type": "code",
      "source": [
        "cd dreamerv2/"
      ],
      "metadata": {
        "id": "m7iK2hd0TnDB",
        "outputId": "0fa7626c-6f07-4610-b190-618167b1d9eb",
        "colab": {
          "base_uri": "https://localhost:8080/"
        }
      },
      "execution_count": 3,
      "outputs": [
        {
          "output_type": "stream",
          "name": "stdout",
          "text": [
            "/content/dreamerv2\n"
          ]
        }
      ]
    },
    {
      "cell_type": "code",
      "source": [
        ""
      ],
      "metadata": {
        "id": "V8OydsRSWcvx"
      },
      "execution_count": null,
      "outputs": []
    },
    {
      "cell_type": "code",
      "source": [
        "!python3 dreamerv2/train.py --logdir ~/logdir/atari_pong/dreamerv2/1 --configs atari --task atari_pong"
      ],
      "metadata": {
        "id": "hYpsRUXBTf6N",
        "outputId": "544196b6-c423-462c-83f4-63c4861ba700",
        "colab": {
          "base_uri": "https://localhost:8080/"
        }
      },
      "execution_count": 7,
      "outputs": [
        {
          "output_type": "stream",
          "name": "stdout",
          "text": [
            "\n",
            "Config:\n",
            "logdir:                     /root/logdir/atari_pong/dreamerv2/1  (str)\n",
            "seed:                       0                                    (int)\n",
            "task:                       atari_pong                           (str)\n",
            "envs:                       1                                    (int)\n",
            "envs_parallel:              none                                 (str)\n",
            "render_size:                [64, 64]                             (ints)\n",
            "dmc_camera:                 -1                                   (int)\n",
            "atari_grayscale:            True                                 (bool)\n",
            "time_limit:                 27000                                (int)\n",
            "action_repeat:              4                                    (int)\n",
            "steps:                      50000000.0                           (float)\n",
            "log_every:                  10000.0                              (float)\n",
            "eval_every:                 250000.0                             (float)\n",
            "eval_eps:                   1                                    (int)\n",
            "prefill:                    50000                                (int)\n",
            "pretrain:                   1                                    (int)\n",
            "train_every:                16                                   (int)\n",
            "train_steps:                1                                    (int)\n",
            "expl_until:                 0                                    (int)\n",
            "replay.capacity:            2000000.0                            (float)\n",
            "replay.ongoing:             False                                (bool)\n",
            "replay.minlen:              50                                   (int)\n",
            "replay.maxlen:              50                                   (int)\n",
            "replay.prioritize_ends:     True                                 (bool)\n",
            "dataset.batch:              16                                   (int)\n",
            "dataset.length:             50                                   (int)\n",
            "log_keys_video:             [image]                              (strs)\n",
            "log_keys_sum:               ^$                                   (str)\n",
            "log_keys_mean:              ^$                                   (str)\n",
            "log_keys_max:               ^$                                   (str)\n",
            "precision:                  16                                   (int)\n",
            "jit:                        True                                 (bool)\n",
            "clip_rewards:               tanh                                 (str)\n",
            "expl_behavior:              greedy                               (str)\n",
            "expl_noise:                 0.0                                  (float)\n",
            "eval_noise:                 0.0                                  (float)\n",
            "eval_state_mean:            False                                (bool)\n",
            "grad_heads:                 [decoder, reward, discount]          (strs)\n",
            "pred_discount:              True                                 (bool)\n",
            "rssm.ensemble:              1                                    (int)\n",
            "rssm.hidden:                600                                  (int)\n",
            "rssm.deter:                 600                                  (int)\n",
            "rssm.stoch:                 32                                   (int)\n",
            "rssm.discrete:              32                                   (int)\n",
            "rssm.act:                   elu                                  (str)\n",
            "rssm.norm:                  none                                 (str)\n",
            "rssm.std_act:               sigmoid2                             (str)\n",
            "rssm.min_std:               0.1                                  (float)\n",
            "encoder.mlp_keys:           $^                                   (str)\n",
            "encoder.cnn_keys:           image                                (str)\n",
            "encoder.act:                elu                                  (str)\n",
            "encoder.norm:               none                                 (str)\n",
            "encoder.cnn_depth:          48                                   (int)\n",
            "encoder.cnn_kernels:        [4, 4, 4, 4]                         (ints)\n",
            "encoder.mlp_layers:         [400, 400, 400, 400]                 (ints)\n",
            "decoder.mlp_keys:           $^                                   (str)\n",
            "decoder.cnn_keys:           image                                (str)\n",
            "decoder.act:                elu                                  (str)\n",
            "decoder.norm:               none                                 (str)\n",
            "decoder.cnn_depth:          48                                   (int)\n",
            "decoder.cnn_kernels:        [5, 5, 6, 6]                         (ints)\n",
            "decoder.mlp_layers:         [400, 400, 400, 400]                 (ints)\n",
            "reward_head.layers:         4                                    (int)\n",
            "reward_head.units:          400                                  (int)\n",
            "reward_head.act:            elu                                  (str)\n",
            "reward_head.norm:           none                                 (str)\n",
            "reward_head.dist:           mse                                  (str)\n",
            "discount_head.layers:       4                                    (int)\n",
            "discount_head.units:        400                                  (int)\n",
            "discount_head.act:          elu                                  (str)\n",
            "discount_head.norm:         none                                 (str)\n",
            "discount_head.dist:         binary                               (str)\n",
            "loss_scales.kl:             0.1                                  (float)\n",
            "loss_scales.reward:         1.0                                  (float)\n",
            "loss_scales.discount:       5.0                                  (float)\n",
            "loss_scales.proprio:        1.0                                  (float)\n",
            "kl.free:                    0.0                                  (float)\n",
            "kl.forward:                 False                                (bool)\n",
            "kl.balance:                 0.8                                  (float)\n",
            "kl.free_avg:                True                                 (bool)\n",
            "model_opt.opt:              adam                                 (str)\n",
            "model_opt.lr:               0.0002                               (float)\n",
            "model_opt.eps:              1e-05                                (float)\n",
            "model_opt.clip:             100                                  (int)\n",
            "model_opt.wd:               1e-06                                (float)\n",
            "actor.layers:               4                                    (int)\n",
            "actor.units:                400                                  (int)\n",
            "actor.act:                  elu                                  (str)\n",
            "actor.norm:                 none                                 (str)\n",
            "actor.dist:                 auto                                 (str)\n",
            "actor.min_std:              0.1                                  (float)\n",
            "critic.layers:              4                                    (int)\n",
            "critic.units:               400                                  (int)\n",
            "critic.act:                 elu                                  (str)\n",
            "critic.norm:                none                                 (str)\n",
            "critic.dist:                mse                                  (str)\n",
            "actor_opt.opt:              adam                                 (str)\n",
            "actor_opt.lr:               4e-05                                (float)\n",
            "actor_opt.eps:              1e-05                                (float)\n",
            "actor_opt.clip:             100                                  (int)\n",
            "actor_opt.wd:               1e-06                                (float)\n",
            "critic_opt.opt:             adam                                 (str)\n",
            "critic_opt.lr:              0.0001                               (float)\n",
            "critic_opt.eps:             1e-05                                (float)\n",
            "critic_opt.clip:            100                                  (int)\n",
            "critic_opt.wd:              1e-06                                (float)\n",
            "discount:                   0.999                                (float)\n",
            "discount_lambda:            0.95                                 (float)\n",
            "imag_horizon:               15                                   (int)\n",
            "actor_grad:                 auto                                 (str)\n",
            "actor_grad_mix:             0.1                                  (float)\n",
            "actor_ent:                  0.001                                (float)\n",
            "slow_target:                True                                 (bool)\n",
            "slow_target_update:         100                                  (int)\n",
            "slow_target_fraction:       1                                    (int)\n",
            "slow_baseline:              True                                 (bool)\n",
            "reward_norm.momentum:       1.0                                  (float)\n",
            "reward_norm.scale:          1.0                                  (float)\n",
            "reward_norm.eps:            1e-08                                (float)\n",
            "expl_intr_scale:            1.0                                  (float)\n",
            "expl_extr_scale:            0.0                                  (float)\n",
            "expl_opt.opt:               adam                                 (str)\n",
            "expl_opt.lr:                0.0003                               (float)\n",
            "expl_opt.eps:               1e-05                                (float)\n",
            "expl_opt.clip:              100                                  (int)\n",
            "expl_opt.wd:                1e-06                                (float)\n",
            "expl_head.layers:           4                                    (int)\n",
            "expl_head.units:            400                                  (int)\n",
            "expl_head.act:              elu                                  (str)\n",
            "expl_head.norm:             none                                 (str)\n",
            "expl_head.dist:             mse                                  (str)\n",
            "expl_reward_norm.momentum:  1.0                                  (float)\n",
            "expl_reward_norm.scale:     1.0                                  (float)\n",
            "expl_reward_norm.eps:       1e-08                                (float)\n",
            "disag_target:               stoch                                (str)\n",
            "disag_log:                  False                                (bool)\n",
            "disag_models:               10                                   (int)\n",
            "disag_offset:               1                                    (int)\n",
            "disag_action_cond:          True                                 (bool)\n",
            "expl_model_loss:            kl                                   (str) \n",
            "\n",
            "Logdir /root/logdir/atari_pong/dreamerv2/1\n",
            "Create envs.\n",
            "Traceback (most recent call last):\n",
            "  File \"dreamerv2/train.py\", line 196, in <module>\n",
            "    main()\n",
            "  File \"dreamerv2/train.py\", line 123, in main\n",
            "    train_envs = [make_env('train') for _ in range(config.envs)]\n",
            "  File \"dreamerv2/train.py\", line 123, in <listcomp>\n",
            "    train_envs = [make_env('train') for _ in range(config.envs)]\n",
            "  File \"dreamerv2/train.py\", line 86, in make_env\n",
            "    config.atari_grayscale)\n",
            "  File \"/content/dreamerv2/dreamerv2/common/envs.py\", line 182, in __init__\n",
            "    full_action_space=all_actions)\n",
            "  File \"/usr/local/lib/python3.7/dist-packages/gym/envs/atari/atari_env.py\", line 49, in __init__\n",
            "    self.game_path = atari_py.get_game_path(game)\n",
            "  File \"/usr/local/lib/python3.7/dist-packages/atari_py/games.py\", line 20, in get_game_path\n",
            "    raise Exception('ROM is missing for %s, see https://github.com/openai/atari-py#roms for instructions' % (game_name,))\n",
            "Exception: ROM is missing for pong, see https://github.com/openai/atari-py#roms for instructions\n"
          ]
        }
      ]
    },
    {
      "cell_type": "code",
      "source": [
        "python3 dreamerv2/train.py --logdir ~/logdir/dmc_walker_walk/dreamerv2/1 --configs dmc_vision --task dmc_walker_walk"
      ],
      "metadata": {
        "id": "ZF0qMD3ITjkB"
      },
      "execution_count": null,
      "outputs": []
    },
    {
      "cell_type": "code",
      "source": [
        "tensorboard --logdir ~/logdir"
      ],
      "metadata": {
        "id": "4L0Io3I4TqoR"
      },
      "execution_count": null,
      "outputs": []
    },
    {
      "cell_type": "code",
      "source": [
        "python3 common/plot.py --indir ~/logdir --outdir ~/plots \\\n",
        "  --xaxis step --yaxis eval_return --bins 1e6"
      ],
      "metadata": {
        "id": "Q4-qomcxTrPF"
      },
      "execution_count": null,
      "outputs": []
    }
  ]
}