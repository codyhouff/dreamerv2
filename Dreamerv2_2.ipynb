{
  "nbformat": 4,
  "nbformat_minor": 0,
  "metadata": {
    "colab": {
      "name": "EfficientZero.ipynb",
      "provenance": [],
      "collapsed_sections": [],
      "authorship_tag": "ABX9TyNqwT0/4PWdaiVOAjTSO7gZ",
      "include_colab_link": true
    },
    "kernelspec": {
      "name": "python3",
      "display_name": "Python 3"
    },
    "language_info": {
      "name": "python"
    },
    "accelerator": "GPU"
  },
  "cells": [
    {
      "cell_type": "markdown",
      "metadata": {
        "id": "view-in-github",
        "colab_type": "text"
      },
      "source": [
        "<a href=\"https://colab.research.google.com/github/codyhouff/dreamerv2/blob/main/Dreamerv2_2.ipynb\" target=\"_parent\"><img src=\"https://colab.research.google.com/assets/colab-badge.svg\" alt=\"Open In Colab\"/></a>"
      ]
    },
    {
      "cell_type": "markdown",
      "source": [
        ""
      ],
      "metadata": {
        "id": "U3kwv2nlfbZi"
      }
    },
    {
      "cell_type": "code",
      "execution_count": 11,
      "metadata": {
        "colab": {
          "base_uri": "https://localhost:8080/"
        },
        "id": "HF-aY69uTWe1",
        "outputId": "f62b281b-f372-41e1-f38d-fde5ee3ddb61"
      },
      "outputs": [
        {
          "output_type": "stream",
          "name": "stdout",
          "text": [
            "Cloning into 'dreamerv2'...\n",
            "remote: Enumerating objects: 84, done.\u001b[K\n",
            "remote: Counting objects: 100% (84/84), done.\u001b[K\n",
            "remote: Compressing objects: 100% (76/76), done.\u001b[K\n",
            "remote: Total 84 (delta 18), reused 0 (delta 0), pack-reused 0\u001b[K\n",
            "Unpacking objects: 100% (84/84), done.\n"
          ]
        }
      ],
      "source": [
        "!git clone https://github.com/codyhouff/dreamerv2"
      ]
    },
    {
      "cell_type": "code",
      "source": [
        "#!rm -rf dreamerv2"
      ],
      "metadata": {
        "id": "0A1G4L08nLTm"
      },
      "execution_count": 3,
      "outputs": []
    },
    {
      "cell_type": "code",
      "source": [
        "#!git clone https://github.com/openai/atari-py"
      ],
      "metadata": {
        "id": "KxiGVFK7a9O1",
        "outputId": "dcaa60f1-1e7e-48cb-80f7-06b05afb6fa6",
        "colab": {
          "base_uri": "https://localhost:8080/"
        }
      },
      "execution_count": 4,
      "outputs": [
        {
          "output_type": "stream",
          "name": "stdout",
          "text": [
            "fatal: destination path 'atari-py' already exists and is not an empty directory.\n"
          ]
        }
      ]
    },
    {
      "cell_type": "code",
      "source": [
        ""
      ],
      "metadata": {
        "id": "Lqe069MEcCCV"
      },
      "execution_count": 4,
      "outputs": []
    },
    {
      "cell_type": "code",
      "source": [
        "#!pip install -e ."
      ],
      "metadata": {
        "id": "iBUQ2pqRbBjQ",
        "outputId": "c889902a-765a-488c-b1dc-069a0254a11a",
        "colab": {
          "base_uri": "https://localhost:8080/"
        }
      },
      "execution_count": 5,
      "outputs": [
        {
          "output_type": "stream",
          "name": "stdout",
          "text": [
            "\u001b[31mERROR: File \"setup.py\" or \"setup.cfg\" not found. Directory cannot be installed in editable mode: /content\u001b[0m\n"
          ]
        }
      ]
    },
    {
      "cell_type": "code",
      "source": [
        "!pip3 install tensorflow tensorflow_probability ruamel.yaml 'gym[atari,accept-rom-license]' dm_control"
      ],
      "metadata": {
        "id": "bzXG4luCTJL4",
        "outputId": "bde554ca-91e3-4bff-c07b-23b4ef36aca7",
        "colab": {
          "base_uri": "https://localhost:8080/"
        }
      },
      "execution_count": 27,
      "outputs": [
        {
          "output_type": "stream",
          "name": "stdout",
          "text": [
            "Requirement already satisfied: tensorflow in /usr/local/lib/python3.7/dist-packages (2.8.0)\n",
            "Requirement already satisfied: tensorflow_probability in /usr/local/lib/python3.7/dist-packages (0.16.0)\n",
            "Requirement already satisfied: ruamel.yaml in /root/.local/lib/python3.7/site-packages (0.17.21)\n",
            "Requirement already satisfied: gym[accept-rom-license,atari] in /usr/local/lib/python3.7/dist-packages (0.23.1)\n",
            "Requirement already satisfied: dm_control in /usr/local/lib/python3.7/dist-packages (1.0.2)\n",
            "Requirement already satisfied: astunparse>=1.6.0 in /usr/local/lib/python3.7/dist-packages (from tensorflow) (1.6.3)\n",
            "Requirement already satisfied: six>=1.12.0 in /usr/local/lib/python3.7/dist-packages (from tensorflow) (1.15.0)\n",
            "Requirement already satisfied: opt-einsum>=2.3.2 in /usr/local/lib/python3.7/dist-packages (from tensorflow) (3.3.0)\n",
            "Requirement already satisfied: tensorboard<2.9,>=2.8 in /usr/local/lib/python3.7/dist-packages (from tensorflow) (2.8.0)\n",
            "Requirement already satisfied: setuptools in /usr/local/lib/python3.7/dist-packages (from tensorflow) (57.4.0)\n",
            "Requirement already satisfied: gast>=0.2.1 in /usr/local/lib/python3.7/dist-packages (from tensorflow) (0.5.3)\n",
            "Requirement already satisfied: protobuf>=3.9.2 in /usr/local/lib/python3.7/dist-packages (from tensorflow) (3.17.3)\n",
            "Requirement already satisfied: google-pasta>=0.1.1 in /usr/local/lib/python3.7/dist-packages (from tensorflow) (0.2.0)\n",
            "Requirement already satisfied: h5py>=2.9.0 in /usr/local/lib/python3.7/dist-packages (from tensorflow) (3.1.0)\n",
            "Requirement already satisfied: keras<2.9,>=2.8.0rc0 in /usr/local/lib/python3.7/dist-packages (from tensorflow) (2.8.0)\n",
            "Requirement already satisfied: flatbuffers>=1.12 in /usr/local/lib/python3.7/dist-packages (from tensorflow) (2.0)\n",
            "Requirement already satisfied: tf-estimator-nightly==2.8.0.dev2021122109 in /root/.local/lib/python3.7/site-packages (from tensorflow) (2.8.0.dev2021122109)\n",
            "Requirement already satisfied: absl-py>=0.4.0 in /usr/local/lib/python3.7/dist-packages (from tensorflow) (1.0.0)\n",
            "Requirement already satisfied: grpcio<2.0,>=1.24.3 in /usr/local/lib/python3.7/dist-packages (from tensorflow) (1.44.0)\n",
            "Requirement already satisfied: termcolor>=1.1.0 in /usr/local/lib/python3.7/dist-packages (from tensorflow) (1.1.0)\n",
            "Requirement already satisfied: tensorflow-io-gcs-filesystem>=0.23.1 in /usr/local/lib/python3.7/dist-packages (from tensorflow) (0.24.0)\n",
            "Requirement already satisfied: libclang>=9.0.1 in /usr/local/lib/python3.7/dist-packages (from tensorflow) (13.0.0)\n",
            "Requirement already satisfied: numpy>=1.20 in /usr/local/lib/python3.7/dist-packages (from tensorflow) (1.21.6)\n",
            "Requirement already satisfied: wrapt>=1.11.0 in /usr/local/lib/python3.7/dist-packages (from tensorflow) (1.14.0)\n",
            "Requirement already satisfied: keras-preprocessing>=1.1.1 in /usr/local/lib/python3.7/dist-packages (from tensorflow) (1.1.2)\n",
            "Requirement already satisfied: typing-extensions>=3.6.6 in /usr/local/lib/python3.7/dist-packages (from tensorflow) (4.1.1)\n",
            "Requirement already satisfied: wheel<1.0,>=0.23.0 in /usr/local/lib/python3.7/dist-packages (from astunparse>=1.6.0->tensorflow) (0.37.1)\n",
            "Requirement already satisfied: cached-property in /usr/local/lib/python3.7/dist-packages (from h5py>=2.9.0->tensorflow) (1.5.2)\n",
            "Requirement already satisfied: tensorboard-data-server<0.7.0,>=0.6.0 in /usr/local/lib/python3.7/dist-packages (from tensorboard<2.9,>=2.8->tensorflow) (0.6.1)\n",
            "Requirement already satisfied: google-auth-oauthlib<0.5,>=0.4.1 in /usr/local/lib/python3.7/dist-packages (from tensorboard<2.9,>=2.8->tensorflow) (0.4.6)\n",
            "Requirement already satisfied: markdown>=2.6.8 in /usr/local/lib/python3.7/dist-packages (from tensorboard<2.9,>=2.8->tensorflow) (3.3.6)\n",
            "Requirement already satisfied: werkzeug>=0.11.15 in /usr/local/lib/python3.7/dist-packages (from tensorboard<2.9,>=2.8->tensorflow) (1.0.1)\n",
            "Requirement already satisfied: google-auth<3,>=1.6.3 in /usr/local/lib/python3.7/dist-packages (from tensorboard<2.9,>=2.8->tensorflow) (1.35.0)\n",
            "Requirement already satisfied: tensorboard-plugin-wit>=1.6.0 in /usr/local/lib/python3.7/dist-packages (from tensorboard<2.9,>=2.8->tensorflow) (1.8.1)\n",
            "Requirement already satisfied: requests<3,>=2.21.0 in /usr/local/lib/python3.7/dist-packages (from tensorboard<2.9,>=2.8->tensorflow) (2.23.0)\n",
            "Requirement already satisfied: pyasn1-modules>=0.2.1 in /usr/local/lib/python3.7/dist-packages (from google-auth<3,>=1.6.3->tensorboard<2.9,>=2.8->tensorflow) (0.2.8)\n",
            "Requirement already satisfied: rsa<5,>=3.1.4 in /usr/local/lib/python3.7/dist-packages (from google-auth<3,>=1.6.3->tensorboard<2.9,>=2.8->tensorflow) (4.8)\n",
            "Requirement already satisfied: cachetools<5.0,>=2.0.0 in /usr/local/lib/python3.7/dist-packages (from google-auth<3,>=1.6.3->tensorboard<2.9,>=2.8->tensorflow) (4.2.4)\n",
            "Requirement already satisfied: requests-oauthlib>=0.7.0 in /usr/local/lib/python3.7/dist-packages (from google-auth-oauthlib<0.5,>=0.4.1->tensorboard<2.9,>=2.8->tensorflow) (1.3.1)\n",
            "Requirement already satisfied: importlib-metadata>=4.4 in /usr/local/lib/python3.7/dist-packages (from markdown>=2.6.8->tensorboard<2.9,>=2.8->tensorflow) (4.11.3)\n",
            "Requirement already satisfied: zipp>=0.5 in /usr/local/lib/python3.7/dist-packages (from importlib-metadata>=4.4->markdown>=2.6.8->tensorboard<2.9,>=2.8->tensorflow) (3.8.0)\n",
            "Requirement already satisfied: pyasn1<0.5.0,>=0.4.6 in /usr/local/lib/python3.7/dist-packages (from pyasn1-modules>=0.2.1->google-auth<3,>=1.6.3->tensorboard<2.9,>=2.8->tensorflow) (0.4.8)\n",
            "Requirement already satisfied: chardet<4,>=3.0.2 in /usr/local/lib/python3.7/dist-packages (from requests<3,>=2.21.0->tensorboard<2.9,>=2.8->tensorflow) (3.0.4)\n",
            "Requirement already satisfied: idna<3,>=2.5 in /usr/local/lib/python3.7/dist-packages (from requests<3,>=2.21.0->tensorboard<2.9,>=2.8->tensorflow) (2.10)\n",
            "Requirement already satisfied: certifi>=2017.4.17 in /usr/local/lib/python3.7/dist-packages (from requests<3,>=2.21.0->tensorboard<2.9,>=2.8->tensorflow) (2021.10.8)\n",
            "Requirement already satisfied: urllib3!=1.25.0,!=1.25.1,<1.26,>=1.21.1 in /usr/local/lib/python3.7/dist-packages (from requests<3,>=2.21.0->tensorboard<2.9,>=2.8->tensorflow) (1.24.3)\n",
            "Requirement already satisfied: oauthlib>=3.0.0 in /usr/local/lib/python3.7/dist-packages (from requests-oauthlib>=0.7.0->google-auth-oauthlib<0.5,>=0.4.1->tensorboard<2.9,>=2.8->tensorflow) (3.2.0)\n",
            "Requirement already satisfied: decorator in /usr/local/lib/python3.7/dist-packages (from tensorflow_probability) (4.4.2)\n",
            "Requirement already satisfied: cloudpickle>=1.3 in /usr/local/lib/python3.7/dist-packages (from tensorflow_probability) (1.3.0)\n",
            "Requirement already satisfied: dm-tree in /usr/local/lib/python3.7/dist-packages (from tensorflow_probability) (0.1.7)\n",
            "Requirement already satisfied: ruamel.yaml.clib>=0.2.6 in /root/.local/lib/python3.7/site-packages (from ruamel.yaml) (0.2.6)\n",
            "Requirement already satisfied: glfw in /usr/local/lib/python3.7/dist-packages (from dm_control) (2.5.3)\n",
            "Requirement already satisfied: scipy in /usr/local/lib/python3.7/dist-packages (from dm_control) (1.4.1)\n",
            "Requirement already satisfied: pyopengl>=3.1.4 in /usr/local/lib/python3.7/dist-packages (from dm_control) (3.1.6)\n",
            "Requirement already satisfied: tqdm in /usr/local/lib/python3.7/dist-packages (from dm_control) (4.64.0)\n",
            "Requirement already satisfied: dm-env in /usr/local/lib/python3.7/dist-packages (from dm_control) (1.5)\n",
            "Requirement already satisfied: pyparsing<3.0.0 in /usr/local/lib/python3.7/dist-packages (from dm_control) (2.4.7)\n",
            "Requirement already satisfied: mujoco>=2.1.5 in /usr/local/lib/python3.7/dist-packages (from dm_control) (2.1.5)\n",
            "Requirement already satisfied: labmaze in /usr/local/lib/python3.7/dist-packages (from dm_control) (1.0.5)\n",
            "Requirement already satisfied: future in /usr/local/lib/python3.7/dist-packages (from dm_control) (0.16.0)\n",
            "Requirement already satisfied: lxml in /usr/local/lib/python3.7/dist-packages (from dm_control) (4.2.6)\n",
            "Requirement already satisfied: gym-notices>=0.0.4 in /usr/local/lib/python3.7/dist-packages (from gym[accept-rom-license,atari]) (0.0.6)\n",
            "Requirement already satisfied: autorom[accept-rom-license]~=0.4.2 in /usr/local/lib/python3.7/dist-packages (from gym[accept-rom-license,atari]) (0.4.2)\n",
            "Requirement already satisfied: ale-py~=0.7.4 in /usr/local/lib/python3.7/dist-packages (from gym[accept-rom-license,atari]) (0.7.5)\n",
            "Requirement already satisfied: importlib-resources in /usr/local/lib/python3.7/dist-packages (from ale-py~=0.7.4->gym[accept-rom-license,atari]) (5.7.0)\n",
            "Requirement already satisfied: click in /usr/local/lib/python3.7/dist-packages (from autorom[accept-rom-license]~=0.4.2->gym[accept-rom-license,atari]) (7.1.2)\n",
            "Requirement already satisfied: AutoROM.accept-rom-license in /usr/local/lib/python3.7/dist-packages (from autorom[accept-rom-license]~=0.4.2->gym[accept-rom-license,atari]) (0.4.2)\n"
          ]
        }
      ]
    },
    {
      "cell_type": "code",
      "source": [
        "ls"
      ],
      "metadata": {
        "id": "i272X0quTl0v",
        "outputId": "ad6f2789-d988-47b5-9425-45798b84af60",
        "colab": {
          "base_uri": "https://localhost:8080/"
        }
      },
      "execution_count": 33,
      "outputs": [
        {
          "output_type": "stream",
          "name": "stdout",
          "text": [
            "'=0.21.0'     Dreamerv2.ipynb            \u001b[0m\u001b[01;34m'HC ROMS'\u001b[0m/   README.md   \u001b[01;34mscores\u001b[0m/\n",
            " Dockerfile   Dreamerv2_LukeBolly.ipynb   LICENSE     \u001b[01;34mROMS\u001b[0m/       setup.py\n",
            " \u001b[01;34mdreamerv2\u001b[0m/   \u001b[01;34mexamples\u001b[0m/                   \u001b[01;34mrars\u001b[0m/       Roms.rar\n"
          ]
        }
      ]
    },
    {
      "cell_type": "code",
      "source": [
        "cd dreamerv2/"
      ],
      "metadata": {
        "id": "m7iK2hd0TnDB",
        "outputId": "1be1e706-2f55-430f-ac62-4110567a3b41",
        "colab": {
          "base_uri": "https://localhost:8080/"
        }
      },
      "execution_count": 29,
      "outputs": [
        {
          "output_type": "stream",
          "name": "stdout",
          "text": [
            "/content/dreamerv2/dreamerv2\n"
          ]
        }
      ]
    },
    {
      "cell_type": "code",
      "source": [
        "#import urllib.request\n",
        "#urllib.request.urlretrieve('http://www.atarimania.com/roms/Roms.rar','Roms.rar')\n",
        "#!pip install unrar\n",
        "#!unrar x Roms.rar\n",
        "#!mkdir rars\n",
        "#!mv HC\\ ROMS.zip   rars\n",
        "#!mv ROMS.zip  rars\n",
        "#!python -m atari_py.import_roms rars"
      ],
      "metadata": {
        "id": "SusPeyxsvQeq"
      },
      "execution_count": null,
      "outputs": []
    },
    {
      "cell_type": "code",
      "source": [
        "#%pip install -U gym>=0.21.0\n",
        "#%pip install -U gym[atari,accept-rom-license]"
      ],
      "metadata": {
        "colab": {
          "base_uri": "https://localhost:8080/"
        },
        "id": "9Ln5sWc_vTeC",
        "outputId": "3e56a342-23da-472b-9afb-2238cbfe06fb"
      },
      "execution_count": 23,
      "outputs": [
        {
          "output_type": "stream",
          "name": "stdout",
          "text": [
            "Requirement already satisfied: gym[accept-rom-license,atari] in /usr/local/lib/python3.7/dist-packages (0.23.1)\n",
            "Requirement already satisfied: gym-notices>=0.0.4 in /usr/local/lib/python3.7/dist-packages (from gym[accept-rom-license,atari]) (0.0.6)\n",
            "Requirement already satisfied: importlib-metadata>=4.10.0 in /usr/local/lib/python3.7/dist-packages (from gym[accept-rom-license,atari]) (4.11.3)\n",
            "Requirement already satisfied: numpy>=1.18.0 in /usr/local/lib/python3.7/dist-packages (from gym[accept-rom-license,atari]) (1.21.6)\n",
            "Requirement already satisfied: cloudpickle>=1.2.0 in /usr/local/lib/python3.7/dist-packages (from gym[accept-rom-license,atari]) (1.3.0)\n",
            "Collecting autorom[accept-rom-license]~=0.4.2\n",
            "  Downloading AutoROM-0.4.2-py3-none-any.whl (16 kB)\n",
            "Collecting ale-py~=0.7.4\n",
            "  Downloading ale_py-0.7.5-cp37-cp37m-manylinux_2_17_x86_64.manylinux2014_x86_64.whl (1.6 MB)\n",
            "\u001b[K     |████████████████████████████████| 1.6 MB 47.4 MB/s \n",
            "\u001b[?25hRequirement already satisfied: importlib-resources in /usr/local/lib/python3.7/dist-packages (from ale-py~=0.7.4->gym[accept-rom-license,atari]) (5.7.0)\n",
            "Requirement already satisfied: requests in /usr/local/lib/python3.7/dist-packages (from autorom[accept-rom-license]~=0.4.2->gym[accept-rom-license,atari]) (2.23.0)\n",
            "Requirement already satisfied: click in /usr/local/lib/python3.7/dist-packages (from autorom[accept-rom-license]~=0.4.2->gym[accept-rom-license,atari]) (7.1.2)\n",
            "Requirement already satisfied: tqdm in /usr/local/lib/python3.7/dist-packages (from autorom[accept-rom-license]~=0.4.2->gym[accept-rom-license,atari]) (4.64.0)\n",
            "Collecting AutoROM.accept-rom-license\n",
            "  Downloading AutoROM.accept-rom-license-0.4.2.tar.gz (9.8 kB)\n",
            "  Installing build dependencies ... \u001b[?25l\u001b[?25hdone\n",
            "  Getting requirements to build wheel ... \u001b[?25l\u001b[?25hdone\n",
            "    Preparing wheel metadata ... \u001b[?25l\u001b[?25hdone\n",
            "Requirement already satisfied: zipp>=0.5 in /usr/local/lib/python3.7/dist-packages (from importlib-metadata>=4.10.0->gym[accept-rom-license,atari]) (3.8.0)\n",
            "Requirement already satisfied: typing-extensions>=3.6.4 in /usr/local/lib/python3.7/dist-packages (from importlib-metadata>=4.10.0->gym[accept-rom-license,atari]) (4.1.1)\n",
            "Requirement already satisfied: certifi>=2017.4.17 in /usr/local/lib/python3.7/dist-packages (from requests->autorom[accept-rom-license]~=0.4.2->gym[accept-rom-license,atari]) (2021.10.8)\n",
            "Requirement already satisfied: urllib3!=1.25.0,!=1.25.1,<1.26,>=1.21.1 in /usr/local/lib/python3.7/dist-packages (from requests->autorom[accept-rom-license]~=0.4.2->gym[accept-rom-license,atari]) (1.24.3)\n",
            "Requirement already satisfied: idna<3,>=2.5 in /usr/local/lib/python3.7/dist-packages (from requests->autorom[accept-rom-license]~=0.4.2->gym[accept-rom-license,atari]) (2.10)\n",
            "Requirement already satisfied: chardet<4,>=3.0.2 in /usr/local/lib/python3.7/dist-packages (from requests->autorom[accept-rom-license]~=0.4.2->gym[accept-rom-license,atari]) (3.0.4)\n",
            "Building wheels for collected packages: AutoROM.accept-rom-license\n",
            "  Building wheel for AutoROM.accept-rom-license (PEP 517) ... \u001b[?25l\u001b[?25hdone\n",
            "  Created wheel for AutoROM.accept-rom-license: filename=AutoROM.accept_rom_license-0.4.2-py3-none-any.whl size=441027 sha256=7ebc1519c6ce89af0c1d69869e5acfae3fd9de3a30d780a97478ac6bc6eed049\n",
            "  Stored in directory: /root/.cache/pip/wheels/87/67/2e/6147e7912fe37f5408b80d07527dab807c1d25f5c403a9538a\n",
            "Successfully built AutoROM.accept-rom-license\n",
            "Installing collected packages: AutoROM.accept-rom-license, autorom, ale-py\n",
            "Successfully installed AutoROM.accept-rom-license-0.4.2 ale-py-0.7.5 autorom-0.4.2\n"
          ]
        }
      ]
    },
    {
      "cell_type": "code",
      "source": [
        "!python3 dreamerv2/train.py --logdir ~/logdir/atari_pong/dreamerv2/1 --configs atari --task atari_pong"
      ],
      "metadata": {
        "id": "hYpsRUXBTf6N",
        "outputId": "4259c8ab-26ad-4770-a75d-3ec760f6b840",
        "colab": {
          "base_uri": "https://localhost:8080/"
        }
      },
      "execution_count": 34,
      "outputs": [
        {
          "output_type": "stream",
          "name": "stdout",
          "text": [
            "\n",
            "Config:\n",
            "logdir:                     /root/logdir/atari_pong/dreamerv2/1  (str)\n",
            "seed:                       0                                    (int)\n",
            "task:                       atari_pong                           (str)\n",
            "envs:                       1                                    (int)\n",
            "envs_parallel:              none                                 (str)\n",
            "render_size:                [64, 64]                             (ints)\n",
            "dmc_camera:                 -1                                   (int)\n",
            "atari_grayscale:            True                                 (bool)\n",
            "time_limit:                 27000                                (int)\n",
            "action_repeat:              4                                    (int)\n",
            "steps:                      50000000.0                           (float)\n",
            "log_every:                  10000.0                              (float)\n",
            "eval_every:                 250000.0                             (float)\n",
            "eval_eps:                   1                                    (int)\n",
            "prefill:                    50000                                (int)\n",
            "pretrain:                   1                                    (int)\n",
            "train_every:                16                                   (int)\n",
            "train_steps:                1                                    (int)\n",
            "expl_until:                 0                                    (int)\n",
            "replay.capacity:            2000000.0                            (float)\n",
            "replay.ongoing:             False                                (bool)\n",
            "replay.minlen:              50                                   (int)\n",
            "replay.maxlen:              50                                   (int)\n",
            "replay.prioritize_ends:     True                                 (bool)\n",
            "dataset.batch:              16                                   (int)\n",
            "dataset.length:             50                                   (int)\n",
            "log_keys_video:             [image]                              (strs)\n",
            "log_keys_sum:               ^$                                   (str)\n",
            "log_keys_mean:              ^$                                   (str)\n",
            "log_keys_max:               ^$                                   (str)\n",
            "precision:                  16                                   (int)\n",
            "jit:                        True                                 (bool)\n",
            "clip_rewards:               tanh                                 (str)\n",
            "expl_behavior:              greedy                               (str)\n",
            "expl_noise:                 0.0                                  (float)\n",
            "eval_noise:                 0.0                                  (float)\n",
            "eval_state_mean:            False                                (bool)\n",
            "grad_heads:                 [decoder, reward, discount]          (strs)\n",
            "pred_discount:              True                                 (bool)\n",
            "rssm.ensemble:              1                                    (int)\n",
            "rssm.hidden:                600                                  (int)\n",
            "rssm.deter:                 600                                  (int)\n",
            "rssm.stoch:                 32                                   (int)\n",
            "rssm.discrete:              32                                   (int)\n",
            "rssm.act:                   elu                                  (str)\n",
            "rssm.norm:                  none                                 (str)\n",
            "rssm.std_act:               sigmoid2                             (str)\n",
            "rssm.min_std:               0.1                                  (float)\n",
            "encoder.mlp_keys:           $^                                   (str)\n",
            "encoder.cnn_keys:           image                                (str)\n",
            "encoder.act:                elu                                  (str)\n",
            "encoder.norm:               none                                 (str)\n",
            "encoder.cnn_depth:          48                                   (int)\n",
            "encoder.cnn_kernels:        [4, 4, 4, 4]                         (ints)\n",
            "encoder.mlp_layers:         [400, 400, 400, 400]                 (ints)\n",
            "decoder.mlp_keys:           $^                                   (str)\n",
            "decoder.cnn_keys:           image                                (str)\n",
            "decoder.act:                elu                                  (str)\n",
            "decoder.norm:               none                                 (str)\n",
            "decoder.cnn_depth:          48                                   (int)\n",
            "decoder.cnn_kernels:        [5, 5, 6, 6]                         (ints)\n",
            "decoder.mlp_layers:         [400, 400, 400, 400]                 (ints)\n",
            "reward_head.layers:         4                                    (int)\n",
            "reward_head.units:          400                                  (int)\n",
            "reward_head.act:            elu                                  (str)\n",
            "reward_head.norm:           none                                 (str)\n",
            "reward_head.dist:           mse                                  (str)\n",
            "discount_head.layers:       4                                    (int)\n",
            "discount_head.units:        400                                  (int)\n",
            "discount_head.act:          elu                                  (str)\n",
            "discount_head.norm:         none                                 (str)\n",
            "discount_head.dist:         binary                               (str)\n",
            "loss_scales.kl:             0.1                                  (float)\n",
            "loss_scales.reward:         1.0                                  (float)\n",
            "loss_scales.discount:       5.0                                  (float)\n",
            "loss_scales.proprio:        1.0                                  (float)\n",
            "kl.free:                    0.0                                  (float)\n",
            "kl.forward:                 False                                (bool)\n",
            "kl.balance:                 0.8                                  (float)\n",
            "kl.free_avg:                True                                 (bool)\n",
            "model_opt.opt:              adam                                 (str)\n",
            "model_opt.lr:               0.0002                               (float)\n",
            "model_opt.eps:              1e-05                                (float)\n",
            "model_opt.clip:             100                                  (int)\n",
            "model_opt.wd:               1e-06                                (float)\n",
            "actor.layers:               4                                    (int)\n",
            "actor.units:                400                                  (int)\n",
            "actor.act:                  elu                                  (str)\n",
            "actor.norm:                 none                                 (str)\n",
            "actor.dist:                 auto                                 (str)\n",
            "actor.min_std:              0.1                                  (float)\n",
            "critic.layers:              4                                    (int)\n",
            "critic.units:               400                                  (int)\n",
            "critic.act:                 elu                                  (str)\n",
            "critic.norm:                none                                 (str)\n",
            "critic.dist:                mse                                  (str)\n",
            "actor_opt.opt:              adam                                 (str)\n",
            "actor_opt.lr:               4e-05                                (float)\n",
            "actor_opt.eps:              1e-05                                (float)\n",
            "actor_opt.clip:             100                                  (int)\n",
            "actor_opt.wd:               1e-06                                (float)\n",
            "critic_opt.opt:             adam                                 (str)\n",
            "critic_opt.lr:              0.0001                               (float)\n",
            "critic_opt.eps:             1e-05                                (float)\n",
            "critic_opt.clip:            100                                  (int)\n",
            "critic_opt.wd:              1e-06                                (float)\n",
            "discount:                   0.999                                (float)\n",
            "discount_lambda:            0.95                                 (float)\n",
            "imag_horizon:               15                                   (int)\n",
            "actor_grad:                 auto                                 (str)\n",
            "actor_grad_mix:             0.1                                  (float)\n",
            "actor_ent:                  0.001                                (float)\n",
            "slow_target:                True                                 (bool)\n",
            "slow_target_update:         100                                  (int)\n",
            "slow_target_fraction:       1                                    (int)\n",
            "slow_baseline:              True                                 (bool)\n",
            "reward_norm.momentum:       1.0                                  (float)\n",
            "reward_norm.scale:          1.0                                  (float)\n",
            "reward_norm.eps:            1e-08                                (float)\n",
            "expl_intr_scale:            1.0                                  (float)\n",
            "expl_extr_scale:            0.0                                  (float)\n",
            "expl_opt.opt:               adam                                 (str)\n",
            "expl_opt.lr:                0.0003                               (float)\n",
            "expl_opt.eps:               1e-05                                (float)\n",
            "expl_opt.clip:              100                                  (int)\n",
            "expl_opt.wd:                1e-06                                (float)\n",
            "expl_head.layers:           4                                    (int)\n",
            "expl_head.units:            400                                  (int)\n",
            "expl_head.act:              elu                                  (str)\n",
            "expl_head.norm:             none                                 (str)\n",
            "expl_head.dist:             mse                                  (str)\n",
            "expl_reward_norm.momentum:  1.0                                  (float)\n",
            "expl_reward_norm.scale:     1.0                                  (float)\n",
            "expl_reward_norm.eps:       1e-08                                (float)\n",
            "disag_target:               stoch                                (str)\n",
            "disag_log:                  False                                (bool)\n",
            "disag_models:               10                                   (int)\n",
            "disag_offset:               1                                    (int)\n",
            "disag_action_cond:          True                                 (bool)\n",
            "expl_model_loss:            kl                                   (str) \n",
            "\n",
            "Logdir /root/logdir/atari_pong/dreamerv2/1\n",
            "Create envs.\n",
            "/usr/local/lib/python3.7/dist-packages/gym/envs/atari/environment.py:69: UserWarning: \u001b[33mWARN: obs_type \"image\" should be replaced with the image type, one of: rgb, grayscale\u001b[0m\n",
            "  'obs_type \"image\" should be replaced with the image type, one of: rgb, grayscale'\n",
            "A.L.E: Arcade Learning Environment (version 0.7.5+db37282)\n",
            "[Powered by Stella]\n",
            "/content/dreamerv2/dreamerv2/common/envs.py:199: DeprecationWarning: `np.bool` is a deprecated alias for the builtin `bool`. To silence this warning, use `bool` by itself. Doing this will not modify any behavior and is safe. If you specifically wanted the numpy scalar type, use `np.bool_` here.\n",
            "Deprecated in NumPy 1.20; for more details and guidance: https://numpy.org/devdocs/release/1.20.0-notes.html#deprecations\n",
            "  'is_first': gym.spaces.Box(0, 1, (), dtype=np.bool),\n",
            "Prefill dataset (50000 steps).\n",
            "Traceback (most recent call last):\n",
            "  File \"dreamerv2/train.py\", line 196, in <module>\n",
            "    main()\n",
            "  File \"dreamerv2/train.py\", line 145, in main\n",
            "    train_driver(random_agent, steps=prefill, episodes=1)\n",
            "  File \"/content/dreamerv2/dreamerv2/common/driver.py\", line 34, in __call__\n",
            "    for i, ob in enumerate(self._obs) if ob is None or ob['is_last']}\n",
            "  File \"/content/dreamerv2/dreamerv2/common/driver.py\", line 34, in <dictcomp>\n",
            "    for i, ob in enumerate(self._obs) if ob is None or ob['is_last']}\n",
            "  File \"/content/dreamerv2/dreamerv2/common/envs.py\", line 365, in reset\n",
            "    return self._env.reset()\n",
            "  File \"/content/dreamerv2/dreamerv2/common/envs.py\", line 432, in reset\n",
            "    return self._env.reset()\n",
            "  File \"/content/dreamerv2/dreamerv2/common/envs.py\", line 228, in reset\n",
            "    'ram': self._env.env._get_ram(),\n",
            "AttributeError: 'AtariEnv' object has no attribute '_get_ram'\n"
          ]
        }
      ]
    },
    {
      "cell_type": "code",
      "source": [
        "tensorboard --logdir ~/logdir"
      ],
      "metadata": {
        "id": "4L0Io3I4TqoR"
      },
      "execution_count": null,
      "outputs": []
    },
    {
      "cell_type": "code",
      "source": [
        "python3 common/plot.py --indir ~/logdir --outdir ~/plots \\\n",
        "  --xaxis step --yaxis eval_return --bins 1e6"
      ],
      "metadata": {
        "id": "Q4-qomcxTrPF"
      },
      "execution_count": null,
      "outputs": []
    }
  ]
}